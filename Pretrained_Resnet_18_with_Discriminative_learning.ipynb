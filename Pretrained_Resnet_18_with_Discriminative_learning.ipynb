{
  "nbformat": 4,
  "nbformat_minor": 0,
  "metadata": {
    "colab": {
      "name": "Pretrained Resnet 18 with Discriminative learning.ipynb",
      "provenance": [],
      "collapsed_sections": [],
      "mount_file_id": "1YXaRUWdz76YeEQBH2hD_Be68IMntHPIC",
      "authorship_tag": "ABX9TyO3uhKmJ6SyiY/vQyeqB0rV",
      "include_colab_link": true
    },
    "kernelspec": {
      "name": "python3",
      "display_name": "Python 3"
    }
  },
  "cells": [
    {
      "cell_type": "markdown",
      "metadata": {
        "id": "view-in-github",
        "colab_type": "text"
      },
      "source": [
        "<a href=\"https://colab.research.google.com/github/sayan0506/Classifying-Cityscape-data-using-Pretrained-Resnet-18-model-using-Discriminative-Learning/blob/main/Pretrained_Resnet_18_with_Discriminative_learning.ipynb\" target=\"_parent\"><img src=\"https://colab.research.google.com/assets/colab-badge.svg\" alt=\"Open In Colab\"/></a>"
      ]
    },
    {
      "cell_type": "markdown",
      "metadata": {
        "id": "C7n61nDyyIQs"
      },
      "source": [
        "# **Modules import**"
      ]
    },
    {
      "cell_type": "code",
      "metadata": {
        "id": "huEDvpWYw45m"
      },
      "source": [
        "from __future__ import print_function, division\r\n",
        "\r\n",
        "import torch\r\n",
        "import torch.nn as nn\r\n",
        "import torch.optim as optim\r\n",
        "from torch.optim import lr_scheduler\r\n",
        "import numpy as np\r\n",
        "import torchvision\r\n",
        "from torchvision import datasets, models, transforms\r\n",
        "import matplotlib.pyplot as plt\r\n",
        "import time\r\n",
        "import os\r\n",
        "import copy\r\n",
        "\r\n",
        "# this makes pyplot in interactive mode\r\n",
        "plt.ion()"
      ],
      "execution_count": 1,
      "outputs": []
    },
    {
      "cell_type": "markdown",
      "metadata": {
        "id": "1CPelpLFyNlo"
      },
      "source": [
        "# **Loading the Cityscape imagepairs dataset from Kaggle**\r\n",
        "\r\n",
        "Get multiple target image and label pairs\r\n",
        "\r\n",
        "**Steps to download the dataset in collab**\r\n",
        "\r\n",
        "1. Go to kaggle account, scroll to **API section**, and Click **Expire API Token** to remove previous tokens\r\n",
        "2. Click on **Create New API Token**, it will download **kaggle.json** file on the machine\r\n",
        "3. Go to google collab project notebook and run following commands in code shell\r\n"
      ]
    },
    {
      "cell_type": "markdown",
      "metadata": {
        "id": "OwOQLE8lu1YO"
      },
      "source": [
        "* Install Kaggle dependencies"
      ]
    },
    {
      "cell_type": "code",
      "metadata": {
        "colab": {
          "base_uri": "https://localhost:8080/"
        },
        "id": "y45nBX7gIV1z",
        "outputId": "f119fc1b-51c7-451f-a8ef-627acd38e69f"
      },
      "source": [
        "# install the dependencies\r\n",
        "!pip install kaggle"
      ],
      "execution_count": 34,
      "outputs": [
        {
          "output_type": "stream",
          "text": [
            "Requirement already satisfied: kaggle in /usr/local/lib/python3.7/dist-packages (1.5.10)\n",
            "Requirement already satisfied: python-dateutil in /usr/local/lib/python3.7/dist-packages (from kaggle) (2.8.1)\n",
            "Requirement already satisfied: six>=1.10 in /usr/local/lib/python3.7/dist-packages (from kaggle) (1.15.0)\n",
            "Requirement already satisfied: urllib3 in /usr/local/lib/python3.7/dist-packages (from kaggle) (1.24.3)\n",
            "Requirement already satisfied: python-slugify in /usr/local/lib/python3.7/dist-packages (from kaggle) (4.0.1)\n",
            "Requirement already satisfied: certifi in /usr/local/lib/python3.7/dist-packages (from kaggle) (2020.12.5)\n",
            "Requirement already satisfied: tqdm in /usr/local/lib/python3.7/dist-packages (from kaggle) (4.41.1)\n",
            "Requirement already satisfied: requests in /usr/local/lib/python3.7/dist-packages (from kaggle) (2.23.0)\n",
            "Requirement already satisfied: text-unidecode>=1.3 in /usr/local/lib/python3.7/dist-packages (from python-slugify->kaggle) (1.3)\n",
            "Requirement already satisfied: idna<3,>=2.5 in /usr/local/lib/python3.7/dist-packages (from requests->kaggle) (2.10)\n",
            "Requirement already satisfied: chardet<4,>=3.0.2 in /usr/local/lib/python3.7/dist-packages (from requests->kaggle) (3.0.4)\n"
          ],
          "name": "stdout"
        }
      ]
    },
    {
      "cell_type": "markdown",
      "metadata": {
        "id": "9f9HVY-qu5LQ"
      },
      "source": [
        "* import google.colab.files\r\n",
        "* files.upload\r\n",
        "* Choose the downloaded **kaggle.json**, and upload into collab"
      ]
    },
    {
      "cell_type": "code",
      "metadata": {
        "colab": {
          "resources": {
            "http://localhost:8080/nbextensions/google.colab/files.js": {
              "data": "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",
              "ok": true,
              "headers": [
                [
                  "content-type",
                  "application/javascript"
                ]
              ],
              "status": 200,
              "status_text": ""
            }
          },
          "base_uri": "https://localhost:8080/",
          "height": 86
        },
        "id": "9NBAyRQEo88A",
        "outputId": "1eb36440-b37d-4314-c7c5-60cdf62ad5b7"
      },
      "source": [
        "from google.colab import files\r\n",
        "\r\n",
        "files.upload()"
      ],
      "execution_count": 18,
      "outputs": [
        {
          "output_type": "display_data",
          "data": {
            "text/html": [
              "\n",
              "     <input type=\"file\" id=\"files-f86c69c8-e801-4e79-96b0-2dd62c030e12\" name=\"files[]\" multiple disabled\n",
              "        style=\"border:none\" />\n",
              "     <output id=\"result-f86c69c8-e801-4e79-96b0-2dd62c030e12\">\n",
              "      Upload widget is only available when the cell has been executed in the\n",
              "      current browser session. Please rerun this cell to enable.\n",
              "      </output>\n",
              "      <script src=\"/nbextensions/google.colab/files.js\"></script> "
            ],
            "text/plain": [
              "<IPython.core.display.HTML object>"
            ]
          },
          "metadata": {
            "tags": []
          }
        },
        {
          "output_type": "stream",
          "text": [
            "Saving kaggle.json to kaggle.json\n"
          ],
          "name": "stdout"
        },
        {
          "output_type": "execute_result",
          "data": {
            "text/plain": [
              "{'kaggle.json': b'{\"username\":\"sayanhazra05\",\"key\":\"038235153b6e88572467ff31dbc34db3\"}'}"
            ]
          },
          "metadata": {
            "tags": []
          },
          "execution_count": 18
        }
      ]
    },
    {
      "cell_type": "markdown",
      "metadata": {
        "id": "rkQTQvcFvWQu"
      },
      "source": [
        "* Run to create new directory named kaggle\r\n",
        ">**!mkdir -p ~/.kaggle**\r\n",
        "* Run this to copy kaggle.json into the directory\r\n",
        ">**!cp kaggle.json ~/.kaggle/** \r\n",
        "* Run this to change the permission\r\n",
        ">**!chmod 600 ~/.kaggle/kaggle.json** "
      ]
    },
    {
      "cell_type": "code",
      "metadata": {
        "id": "YiGlI1BZpEN6"
      },
      "source": [
        "# create kaggle directory\r\n",
        "!mkdir -p ~/.kaggle\r\n",
        "# copy kaggle,json in the directory\r\n",
        "!cp kaggle.json ~/.kaggle/\r\n",
        "\r\n",
        "# change the permission\r\n",
        "!chmod 600 ~/.kaggle/kaggle.json"
      ],
      "execution_count": 41,
      "outputs": []
    },
    {
      "cell_type": "markdown",
      "metadata": {
        "id": "N_oC0SLawnqH"
      },
      "source": [
        "* **Download the dataset**(follow general steps or run the command for now)\r\n",
        "* Go to kaggle, search the competition, here **\"Cityscapes Image Pairs\"**, open it, navigate to marked section for selection\r\n"
      ]
    },
    {
      "cell_type": "markdown",
      "metadata": {
        "id": "2Z36kAzFygMi"
      },
      "source": [
        "![image.png](data:image/png;base64,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)"
      ]
    },
    {
      "cell_type": "markdown",
      "metadata": {
        "id": "DjG69Gpryild"
      },
      "source": [
        "* **Click on copy API command**, for this Cityscapes dataset run the following\r\n",
        ">**!kaggle datasets download -d dansbecker/cityscapes-image-pairs**\r\n",
        "* Download the zip file"
      ]
    },
    {
      "cell_type": "code",
      "metadata": {
        "colab": {
          "base_uri": "https://localhost:8080/"
        },
        "id": "bu4fq7vkpZUF",
        "outputId": "a6416d6e-220b-4d07-f588-28eb8adcbb63"
      },
      "source": [
        "#download the dataset\r\n",
        "!kaggle datasets download -d dansbecker/cityscapes-image-pairs"
      ],
      "execution_count": 42,
      "outputs": [
        {
          "output_type": "stream",
          "text": [
            "cityscapes-image-pairs.zip: Skipping, found more recently modified local copy (use --force to force download)\n"
          ],
          "name": "stdout"
        }
      ]
    },
    {
      "cell_type": "markdown",
      "metadata": {
        "id": "BzuPUSiWzYcP"
      },
      "source": [
        "# Data Preperation"
      ]
    },
    {
      "cell_type": "markdown",
      "metadata": {
        "id": "KXs4-9WnzbvF"
      },
      "source": [
        "## Unzipping the dataset into train and test"
      ]
    },
    {
      "cell_type": "code",
      "metadata": {
        "id": "5q9be1UHqX28"
      },
      "source": [
        ""
      ],
      "execution_count": null,
      "outputs": []
    }
  ]
}